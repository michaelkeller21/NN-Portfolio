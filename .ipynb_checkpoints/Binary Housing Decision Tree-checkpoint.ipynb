{
 "cells": [
  {
   "cell_type": "markdown",
   "metadata": {},
   "source": [
    "This notebook will report the findings of creating a decision tree model on a binary version of the Boston housing dataset. For reference:\n",
    "\n",
    "1. CRIM: per capita crime rate by town\n",
    "2. ZN: proportion of residential land zoned for lots over 25,000 sq.ft .\n",
    "3. INDUS: proportion of non retail business acres per town\n",
    "4. CHAS: Charles River dummy variable (= 1 if tract bounds river; 0 otherwise)\n",
    "5. NOX: nitric oxides concentration (parts per 10 million)\n",
    "6. RM: average number of rooms per dwelling\n",
    "7. AGE: proportion of owner occupied units built prior to 1940\n",
    "8. DIS: weighted distances to five Boston employment centers\n",
    "9. RAD: index of accessibility to radial highways\n",
    "10. TAX: full value property tax rate per 10,000\n",
    "11. PTRATIO: pupil teacher ratio by town\n",
    "12. B: 1000(Bk 0.63)^2 where Bk is the proportion of blacks by town\n",
    "13. LSTAT: percent lower status of the population\n",
    "14. MEDV: Median value of owner occupied homes in 1000's\n",
    "\n",
    "Note that in this dataset, an instance has a median house value of 1 if the median house value is greater than 230k and 0 if it is not."
   ]
  },
  {
   "cell_type": "markdown",
   "metadata": {},
   "source": [
    "First we must load the dataset."
   ]
  },
  {
   "cell_type": "code",
   "execution_count": 1,
   "metadata": {},
   "outputs": [
    {
     "data": {
      "text/plain": [
       "      Crim                Zn             Indus            Chas        \n",
       " Min.   : 0.00632   Min.   :  0.00   Min.   : 0.46   Min.   :0.00000  \n",
       " 1st Qu.: 0.08204   1st Qu.:  0.00   1st Qu.: 5.19   1st Qu.:0.00000  \n",
       " Median : 0.25651   Median :  0.00   Median : 9.69   Median :0.00000  \n",
       " Mean   : 3.61352   Mean   : 11.36   Mean   :11.14   Mean   :0.06917  \n",
       " 3rd Qu.: 3.67708   3rd Qu.: 12.50   3rd Qu.:18.10   3rd Qu.:0.00000  \n",
       " Max.   :88.97620   Max.   :100.00   Max.   :27.74   Max.   :1.00000  \n",
       "      Nox               Rm             Age              Dis        \n",
       " Min.   :0.3850   Min.   :3.561   Min.   :  2.90   Min.   : 1.130  \n",
       " 1st Qu.:0.4490   1st Qu.:5.886   1st Qu.: 45.02   1st Qu.: 2.100  \n",
       " Median :0.5380   Median :6.208   Median : 77.50   Median : 3.207  \n",
       " Mean   :0.5547   Mean   :6.285   Mean   : 68.57   Mean   : 3.795  \n",
       " 3rd Qu.:0.6240   3rd Qu.:6.623   3rd Qu.: 94.08   3rd Qu.: 5.188  \n",
       " Max.   :0.8710   Max.   :8.780   Max.   :100.00   Max.   :12.127  \n",
       "      Rad              Tax           Ptratio            B         \n",
       " Min.   : 1.000   Min.   :187.0   Min.   :12.60   Min.   :  0.32  \n",
       " 1st Qu.: 4.000   1st Qu.:279.0   1st Qu.:17.40   1st Qu.:375.38  \n",
       " Median : 5.000   Median :330.0   Median :19.05   Median :391.44  \n",
       " Mean   : 9.549   Mean   :408.2   Mean   :18.46   Mean   :356.67  \n",
       " 3rd Qu.:24.000   3rd Qu.:666.0   3rd Qu.:20.20   3rd Qu.:396.23  \n",
       " Max.   :24.000   Max.   :711.0   Max.   :22.00   Max.   :396.90  \n",
       "     Lstat            Medv       \n",
       " Min.   : 1.73   Min.   :0.0000  \n",
       " 1st Qu.: 6.95   1st Qu.:0.0000  \n",
       " Median :11.36   Median :0.0000  \n",
       " Mean   :12.65   Mean   :0.3834  \n",
       " 3rd Qu.:16.95   3rd Qu.:1.0000  \n",
       " Max.   :37.97   Max.   :1.0000  "
      ]
     },
     "metadata": {},
     "output_type": "display_data"
    }
   ],
   "source": [
    "housing<-read.table(\"housing.header.binary.txt\", header=TRUE, sep=\",\")\n",
    "colnames(housing)<-c(\"Crim\", \"Zn\", \"Indus\", \"Chas\", \"Nox\", \"Rm\", \"Age\", \"Dis\", \"Rad\", \"Tax\", \"Ptratio\", \"B\", \"Lstat\", \"Medv\")\n",
    "summary(housing)"
   ]
  },
  {
   "cell_type": "markdown",
   "metadata": {},
   "source": [
    "We will use the Crim index and number of rooms in a building as independent variables to train an RPART decision tree that predicts whether the median house value is 0 or 1."
   ]
  },
  {
   "cell_type": "code",
   "execution_count": 2,
   "metadata": {},
   "outputs": [
    {
     "name": "stdout",
     "output_type": "stream",
     "text": [
      "Call:\n",
      "rpart(formula = Medv ~ Crim + Rm, data = housing, method = \"class\")\n",
      "  n= 506 \n",
      "\n",
      "          CP nsplit rel error    xerror       xstd\n",
      "1 0.51546392      0 1.0000000 1.0000000 0.05637690\n",
      "2 0.05670103      1 0.4845361 0.5206186 0.04634589\n",
      "3 0.01546392      2 0.4278351 0.4639175 0.04433951\n",
      "4 0.01374570      5 0.3814433 0.5257732 0.04651722\n",
      "5 0.01030928      8 0.3402062 0.5103093 0.04599788\n",
      "6 0.01000000     11 0.3041237 0.5154639 0.04617278\n",
      "\n",
      "Variable importance\n",
      "  Rm Crim \n",
      "  69   31 \n",
      "\n",
      "Node number 1: 506 observations,    complexity param=0.5154639\n",
      "  predicted class=0  expected loss=0.3833992  P(node) =1\n",
      "    class counts:   312   194\n",
      "   probabilities: 0.617 0.383 \n",
      "  left son=2 (362 obs) right son=3 (144 obs)\n",
      "  Primary splits:\n",
      "      Rm   < 6.5455   to the left,  improve=86.60421, (0 missing)\n",
      "      Crim < 0.66771  to the right, improve=30.94264, (0 missing)\n",
      "  Surrogate splits:\n",
      "      Crim < 0.0273   to the right, agree=0.739, adj=0.083, (0 split)\n",
      "\n",
      "Node number 2: 362 observations,    complexity param=0.01546392\n",
      "  predicted class=0  expected loss=0.198895  P(node) =0.715415\n",
      "    class counts:   290    72\n",
      "   probabilities: 0.801 0.199 \n",
      "  left son=4 (227 obs) right son=5 (135 obs)\n",
      "  Primary splits:\n",
      "      Rm   < 6.143    to the left,  improve=10.567340, (0 missing)\n",
      "      Crim < 0.60872  to the right, improve= 5.439062, (0 missing)\n",
      "  Surrogate splits:\n",
      "      Crim < 0.042975 to the right, agree=0.652, adj=0.067, (0 split)\n",
      "\n",
      "Node number 3: 144 observations,    complexity param=0.05670103\n",
      "  predicted class=1  expected loss=0.1527778  P(node) =0.284585\n",
      "    class counts:    22   122\n",
      "   probabilities: 0.153 0.847 \n",
      "  left son=6 (13 obs) right son=7 (131 obs)\n",
      "  Primary splits:\n",
      "      Crim < 6.62824  to the right, improve=16.958340, (0 missing)\n",
      "      Rm   < 6.8375   to the left,  improve= 3.992841, (0 missing)\n",
      "\n",
      "Node number 4: 227 observations\n",
      "  predicted class=0  expected loss=0.1057269  P(node) =0.4486166\n",
      "    class counts:   203    24\n",
      "   probabilities: 0.894 0.106 \n",
      "\n",
      "Node number 5: 135 observations,    complexity param=0.01546392\n",
      "  predicted class=0  expected loss=0.3555556  P(node) =0.2667984\n",
      "    class counts:    87    48\n",
      "   probabilities: 0.644 0.356 \n",
      "  left son=10 (47 obs) right son=11 (88 obs)\n",
      "  Primary splits:\n",
      "      Crim < 3.621175 to the right, improve=12.2723700, (0 missing)\n",
      "      Rm   < 6.365    to the left,  improve= 0.9333923, (0 missing)\n",
      "\n",
      "Node number 6: 13 observations\n",
      "  predicted class=0  expected loss=0.07692308  P(node) =0.0256917\n",
      "    class counts:    12     1\n",
      "   probabilities: 0.923 0.077 \n",
      "\n",
      "Node number 7: 131 observations\n",
      "  predicted class=1  expected loss=0.07633588  P(node) =0.2588933\n",
      "    class counts:    10   121\n",
      "   probabilities: 0.076 0.924 \n",
      "\n",
      "Node number 10: 47 observations\n",
      "  predicted class=0  expected loss=0.06382979  P(node) =0.09288538\n",
      "    class counts:    44     3\n",
      "   probabilities: 0.936 0.064 \n",
      "\n",
      "Node number 11: 88 observations,    complexity param=0.01546392\n",
      "  predicted class=1  expected loss=0.4886364  P(node) =0.173913\n",
      "    class counts:    43    45\n",
      "   probabilities: 0.489 0.511 \n",
      "  left son=22 (47 obs) right son=23 (41 obs)\n",
      "  Primary splits:\n",
      "      Rm   < 6.365    to the left,  improve=1.486354, (0 missing)\n",
      "      Crim < 0.21949  to the right, improve=1.227273, (0 missing)\n",
      "  Surrogate splits:\n",
      "      Crim < 0.02803  to the right, agree=0.58, adj=0.098, (0 split)\n",
      "\n",
      "Node number 22: 47 observations,    complexity param=0.0137457\n",
      "  predicted class=0  expected loss=0.4255319  P(node) =0.09288538\n",
      "    class counts:    27    20\n",
      "   probabilities: 0.574 0.426 \n",
      "  left son=44 (39 obs) right son=45 (8 obs)\n",
      "  Primary splits:\n",
      "      Crim < 0.040825 to the right, improve=0.7671849, (0 missing)\n",
      "      Rm   < 6.3155   to the right, improve=0.5941080, (0 missing)\n",
      "\n",
      "Node number 23: 41 observations,    complexity param=0.01030928\n",
      "  predicted class=1  expected loss=0.3902439  P(node) =0.08102767\n",
      "    class counts:    16    25\n",
      "   probabilities: 0.390 0.610 \n",
      "  left son=46 (32 obs) right son=47 (9 obs)\n",
      "  Primary splits:\n",
      "      Rm   < 6.3975   to the right, improve=1.796917, (0 missing)\n",
      "      Crim < 0.048715 to the left,  improve=1.762195, (0 missing)\n",
      "\n",
      "Node number 44: 39 observations,    complexity param=0.0137457\n",
      "  predicted class=0  expected loss=0.3846154  P(node) =0.0770751\n",
      "    class counts:    24    15\n",
      "   probabilities: 0.615 0.385 \n",
      "  left son=88 (18 obs) right son=89 (21 obs)\n",
      "  Primary splits:\n",
      "      Crim < 0.14055  to the left,  improve=1.7631260, (0 missing)\n",
      "      Rm   < 6.3155   to the right, improve=0.3647643, (0 missing)\n",
      "  Surrogate splits:\n",
      "      Rm < 6.2695   to the right, agree=0.641, adj=0.222, (0 split)\n",
      "\n",
      "Node number 45: 8 observations\n",
      "  predicted class=1  expected loss=0.375  P(node) =0.01581028\n",
      "    class counts:     3     5\n",
      "   probabilities: 0.375 0.625 \n",
      "\n",
      "Node number 46: 32 observations,    complexity param=0.01030928\n",
      "  predicted class=1  expected loss=0.46875  P(node) =0.06324111\n",
      "    class counts:    15    17\n",
      "   probabilities: 0.469 0.531 \n",
      "  left son=92 (8 obs) right son=93 (24 obs)\n",
      "  Primary splits:\n",
      "      Crim < 0.05022  to the left,  improve=1.687500, (0 missing)\n",
      "      Rm   < 6.4775   to the left,  improve=1.288149, (0 missing)\n",
      "  Surrogate splits:\n",
      "      Rm < 6.5135   to the right, agree=0.781, adj=0.125, (0 split)\n",
      "\n",
      "Node number 47: 9 observations\n",
      "  predicted class=1  expected loss=0.1111111  P(node) =0.01778656\n",
      "    class counts:     1     8\n",
      "   probabilities: 0.111 0.889 \n",
      "\n",
      "Node number 88: 18 observations\n",
      "  predicted class=0  expected loss=0.2222222  P(node) =0.03557312\n",
      "    class counts:    14     4\n",
      "   probabilities: 0.778 0.222 \n",
      "\n",
      "Node number 89: 21 observations,    complexity param=0.0137457\n",
      "  predicted class=1  expected loss=0.4761905  P(node) =0.04150198\n",
      "    class counts:    10    11\n",
      "   probabilities: 0.476 0.524 \n",
      "  left son=178 (11 obs) right son=179 (10 obs)\n",
      "  Primary splits:\n",
      "      Crim < 0.24666  to the right, improve=2.912554, (0 missing)\n",
      "      Rm   < 6.2345   to the left,  improve=0.221645, (0 missing)\n",
      "  Surrogate splits:\n",
      "      Rm < 6.2475   to the right, agree=0.667, adj=0.3, (0 split)\n",
      "\n",
      "Node number 92: 8 observations\n",
      "  predicted class=0  expected loss=0.25  P(node) =0.01581028\n",
      "    class counts:     6     2\n",
      "   probabilities: 0.750 0.250 \n",
      "\n",
      "Node number 93: 24 observations,    complexity param=0.01030928\n",
      "  predicted class=1  expected loss=0.375  P(node) =0.04743083\n",
      "    class counts:     9    15\n",
      "   probabilities: 0.375 0.625 \n",
      "  left son=186 (9 obs) right son=187 (15 obs)\n",
      "  Primary splits:\n",
      "      Crim < 0.221425 to the right, improve=2.4500000, (0 missing)\n",
      "      Rm   < 6.4775   to the left,  improve=0.6722222, (0 missing)\n",
      "  Surrogate splits:\n",
      "      Rm < 6.4155   to the left,  agree=0.75, adj=0.333, (0 split)\n",
      "\n",
      "Node number 178: 11 observations\n",
      "  predicted class=0  expected loss=0.2727273  P(node) =0.02173913\n",
      "    class counts:     8     3\n",
      "   probabilities: 0.727 0.273 \n",
      "\n",
      "Node number 179: 10 observations\n",
      "  predicted class=1  expected loss=0.2  P(node) =0.01976285\n",
      "    class counts:     2     8\n",
      "   probabilities: 0.200 0.800 \n",
      "\n",
      "Node number 186: 9 observations\n",
      "  predicted class=0  expected loss=0.3333333  P(node) =0.01778656\n",
      "    class counts:     6     3\n",
      "   probabilities: 0.667 0.333 \n",
      "\n",
      "Node number 187: 15 observations\n",
      "  predicted class=1  expected loss=0.2  P(node) =0.02964427\n",
      "    class counts:     3    12\n",
      "   probabilities: 0.200 0.800 \n",
      "\n"
     ]
    }
   ],
   "source": [
    "library(rpart)\n",
    "fit<-rpart(Medv~Crim+Rm, method=\"class\", data=housing)\n",
    "summary(fit)"
   ]
  },
  {
   "cell_type": "markdown",
   "metadata": {},
   "source": [
    "Next we visualize the tree:"
   ]
  },
  {
   "cell_type": "code",
   "execution_count": 3,
   "metadata": {},
   "outputs": [
    {
     "data": {
      "image/png": "[encoded data removed]",
      "text/plain": [
       "Plot with title \"Decision Tree\""
      ]
     },
     "metadata": {},
     "output_type": "display_data"
    }
   ],
   "source": [
    "plot(fit, uniform=TRUE, main=\"Decision Tree\")\n",
    "text(fit, use.n=TRUE, all=TRUE, cex=.8)"
   ]
  },
  {
   "cell_type": "markdown",
   "metadata": {},
   "source": [
    "The above decision tree looks at each instance and performs the following splits:\n",
    "\n",
    "Root node-Is Rm<6.546?\n",
    "\n",
    "312 instances were split as negatives, and 194 were split as positives.\n",
    "\n",
    "Traversing the left subtree, we ask:\n",
    "\n",
    "Is Rm < 6.143?\n",
    "\n",
    "290 instances were split as negatives, and 72 were split as positives.\n",
    "\n",
    "Continuing down the left subtree, we have a class label of 0 in response to an answer of 0 to the above question. Here we have 203 instances that were true negatives and 24 that were not.\n",
    "\n",
    "Traversing the right subtree from the above node, we ask:\n",
    "\n",
    "Is Crim>=3.621?\n",
    "\n",
    "87 instances were split as negatives, and 48 were split as positives.\n",
    "\n",
    "Moving left from here, we have a class label of 0 in response to an answer of 0 to the above question. Here we have 44 instances that were true negatives and 3 that were not.\n",
    "\n",
    "Traversing the right subtree from the above node, we ask:\n",
    "\n",
    "Is Rm > 6.365?\n",
    "\n",
    "43 instances were split as negatives, and 45 were split as positives.\n",
    "\n",
    "Traversing the left subtree from this node, we ask:\n",
    "\n",
    "Is Crim >=0.0483?\n",
    "\n",
    "27 instances were split as negatives, and 20 were split as positives.\n",
    "\n",
    "Moving right from here, we have a class label of 1 in response to an answer of 1 to the above question. Here we have 5 instances that were true positives and 3 that were not.\n",
    "\n",
    "The above described process can be used for each decision node to eventually reach a leaf node."
   ]
  },
  {
   "cell_type": "markdown",
   "metadata": {},
   "source": [
    "Now we will use all variables to train an RPART decision tree that predicts whether the median house value is 0 or 1. We will use 80% of the data to fit the tree, and 20% of the data to test the effectiveness of the decision tree model."
   ]
  },
  {
   "cell_type": "code",
   "execution_count": 4,
   "metadata": {},
   "outputs": [
    {
     "name": "stdout",
     "output_type": "stream",
     "text": [
      "Call:\n",
      "rpart(formula = Medv ~ Crim + Zn + Indus + Chas + Nox + Rm + \n",
      "    Age + Dis + Rad + Tax + Ptratio + B + Lstat, data = housing[train, \n",
      "    ], method = \"class\")\n",
      "  n= 404 \n",
      "\n",
      "          CP nsplit rel error    xerror       xstd\n",
      "1 0.65644172      0 1.0000000 1.0000000 0.06049563\n",
      "2 0.06134969      1 0.3435583 0.4233129 0.04640542\n",
      "3 0.03067485      2 0.2822086 0.4110429 0.04586423\n",
      "4 0.01000000      3 0.2515337 0.3742331 0.04415030\n",
      "\n",
      "Variable importance\n",
      "Lstat    Rm Indus   Nox  Crim   Age   Dis     B \n",
      "   25    17    16    15    13    13     1     1 \n",
      "\n",
      "Node number 1: 404 observations,    complexity param=0.6564417\n",
      "  predicted class=0  expected loss=0.4034653  P(node) =1\n",
      "    class counts:   241   163\n",
      "   probabilities: 0.597 0.403 \n",
      "  left son=2 (227 obs) right son=3 (177 obs)\n",
      "  Primary splits:\n",
      "      Lstat   < 10.14    to the right, improve=100.19760, (0 missing)\n",
      "      Rm      < 6.5455   to the left,  improve= 72.03598, (0 missing)\n",
      "      Indus   < 8.005    to the right, improve= 51.39322, (0 missing)\n",
      "      Ptratio < 19.9     to the right, improve= 45.67274, (0 missing)\n",
      "      Nox     < 0.5125   to the right, improve= 45.53887, (0 missing)\n",
      "  Surrogate splits:\n",
      "      Indus < 7.625    to the right, agree=0.829, adj=0.610, (0 split)\n",
      "      Nox   < 0.519    to the right, agree=0.809, adj=0.565, (0 split)\n",
      "      Rm    < 6.476    to the left,  agree=0.790, adj=0.520, (0 split)\n",
      "      Age   < 52.05    to the right, agree=0.775, adj=0.486, (0 split)\n",
      "      Crim  < 0.09278  to the right, agree=0.767, adj=0.469, (0 split)\n",
      "\n",
      "Node number 2: 227 observations\n",
      "  predicted class=0  expected loss=0.09251101  P(node) =0.5618812\n",
      "    class counts:   206    21\n",
      "   probabilities: 0.907 0.093 \n",
      "\n",
      "Node number 3: 177 observations,    complexity param=0.06134969\n",
      "  predicted class=1  expected loss=0.1977401  P(node) =0.4381188\n",
      "    class counts:    35   142\n",
      "   probabilities: 0.198 0.802 \n",
      "  left son=6 (30 obs) right son=7 (147 obs)\n",
      "  Primary splits:\n",
      "      Rm      < 6.1445   to the left,  improve=15.886080, (0 missing)\n",
      "      Lstat   < 7.765    to the right, improve=12.974080, (0 missing)\n",
      "      Ptratio < 20.95    to the right, improve= 3.889285, (0 missing)\n",
      "      Rad     < 4.5      to the left,  improve= 3.498422, (0 missing)\n",
      "      Crim    < 0.073735 to the left,  improve= 2.754341, (0 missing)\n",
      "  Surrogate splits:\n",
      "      Lstat   < 9.725    to the right, agree=0.864, adj=0.200, (0 split)\n",
      "      Ptratio < 20.95    to the right, agree=0.847, adj=0.100, (0 split)\n",
      "      B       < 354.1    to the left,  agree=0.847, adj=0.100, (0 split)\n",
      "      Dis     < 1.7616   to the left,  agree=0.842, adj=0.067, (0 split)\n",
      "      Crim    < 7.403005 to the right, agree=0.836, adj=0.033, (0 split)\n",
      "\n",
      "Node number 6: 30 observations,    complexity param=0.03067485\n",
      "  predicted class=0  expected loss=0.3333333  P(node) =0.07425743\n",
      "    class counts:    20    10\n",
      "   probabilities: 0.667 0.333 \n",
      "  left son=12 (19 obs) right son=13 (11 obs)\n",
      "  Primary splits:\n",
      "      Crim  < 0.166905 to the left,  improve=5.390750, (0 missing)\n",
      "      Indus < 12.925   to the left,  improve=5.010352, (0 missing)\n",
      "      Dis   < 4.60305  to the right, improve=4.444444, (0 missing)\n",
      "      Rad   < 4.5      to the left,  improve=2.976190, (0 missing)\n",
      "      Nox   < 0.5555   to the left,  improve=2.650104, (0 missing)\n",
      "  Surrogate splits:\n",
      "      Nox   < 0.5265   to the left,  agree=0.900, adj=0.727, (0 split)\n",
      "      Dis   < 4.75985  to the right, agree=0.867, adj=0.636, (0 split)\n",
      "      Indus < 16.01    to the left,  agree=0.833, adj=0.545, (0 split)\n",
      "      Age   < 51.85    to the left,  agree=0.833, adj=0.545, (0 split)\n",
      "      B     < 358.475  to the right, agree=0.800, adj=0.455, (0 split)\n",
      "\n",
      "Node number 7: 147 observations\n",
      "  predicted class=1  expected loss=0.1020408  P(node) =0.3638614\n",
      "    class counts:    15   132\n",
      "   probabilities: 0.102 0.898 \n",
      "\n",
      "Node number 12: 19 observations\n",
      "  predicted class=0  expected loss=0.1052632  P(node) =0.0470297\n",
      "    class counts:    17     2\n",
      "   probabilities: 0.895 0.105 \n",
      "\n",
      "Node number 13: 11 observations\n",
      "  predicted class=1  expected loss=0.2727273  P(node) =0.02722772\n",
      "    class counts:     3     8\n",
      "   probabilities: 0.273 0.727 \n",
      "\n"
     ]
    }
   ],
   "source": [
    "set.seed(1)\n",
    "train<-sample(1:nrow(housing), 0.8*nrow(housing))\n",
    "train.set<-housing[train,]\n",
    "test.set<-housing[-train,]\n",
    "housing.tree<-rpart(Medv~Crim+Zn+Indus+Chas+Nox+Rm+Age+Dis+Rad+Tax+Ptratio+B+Lstat, data=housing[train,], method=\"class\")\n",
    "summary(housing.tree)"
   ]
  },
  {
   "cell_type": "code",
   "execution_count": 5,
   "metadata": {},
   "outputs": [
    {
     "data": {
      "text/plain": [
       "   housing.pred\n",
       "     0  1\n",
       "  0 62  9\n",
       "  1  7 24"
      ]
     },
     "metadata": {},
     "output_type": "display_data"
    }
   ],
   "source": [
    "housing.pred<-predict(housing.tree, housing[-train,], type=\"class\")\n",
    "table(housing[-train,]$Medv, housing.pred)"
   ]
  },
  {
   "cell_type": "markdown",
   "metadata": {},
   "source": [
    "From this, we have that:\n",
    "\n",
    "True Positive Rate=24/(24+7)=24/31=0.7742\n",
    "\n",
    "False Positive Rate=9/(9+62)=9/71=0.1268\n",
    "\n",
    "Accuracy: (62+24)/(62+24+9+7)=86/102=84.31%"
   ]
  },
  {
   "cell_type": "markdown",
   "metadata": {},
   "source": [
    "Next we show the ROC curve of the classifier which plots true positve rate as a function of false positve rate:"
   ]
  },
  {
   "cell_type": "code",
   "execution_count": 6,
   "metadata": {},
   "outputs": [
    {
     "name": "stderr",
     "output_type": "stream",
     "text": [
      "Loading required package: gplots\n",
      "\n",
      "Attaching package: 'gplots'\n",
      "\n",
      "The following object is masked from 'package:stats':\n",
      "\n",
      "    lowess\n",
      "\n"
     ]
    },
    {
     "data": {
      "image/png": "[encoded data removed]",
      "text/plain": [
       "plot without title"
      ]
     },
     "metadata": {},
     "output_type": "display_data"
    }
   ],
   "source": [
    "housing.prob<-predict(housing.tree,housing[-train, ], type=\"prob\")\n",
    "housing.prob.label<-cbind(housing.prob[, 2], housing[-train,]$Medv)\n",
    "library(ROCR)\n",
    "\n",
    "pred<-prediction(housing.prob.label[, 1], housing.prob.label[, 2])\n",
    "perf<-performance(pred, \"tpr\", \"fpr\")\n",
    "plot(perf, col=\"red\")\n",
    "abline(0,1, col=\"lightgray\")\n"
   ]
  },
  {
   "cell_type": "markdown",
   "metadata": {},
   "source": [
    "Next we show the AUC value:"
   ]
  },
  {
   "cell_type": "code",
   "execution_count": 8,
   "metadata": {},
   "outputs": [
    {
     "data": {
      "text/plain": [
       "An object of class \"performance\"\n",
       "Slot \"x.name\":\n",
       "[1] \"None\"\n",
       "\n",
       "Slot \"y.name\":\n",
       "[1] \"Area under the ROC curve\"\n",
       "\n",
       "Slot \"alpha.name\":\n",
       "[1] \"none\"\n",
       "\n",
       "Slot \"x.values\":\n",
       "list()\n",
       "\n",
       "Slot \"y.values\":\n",
       "[[1]]\n",
       "[1] 0.8523398\n",
       "\n",
       "\n",
       "Slot \"alpha.values\":\n",
       "list()\n"
      ]
     },
     "metadata": {},
     "output_type": "display_data"
    },
    {
     "data": {
      "text/html": [
       "0.852339845524761"
      ],
      "text/latex": [
       "0.852339845524761"
      ],
      "text/markdown": [
       "0.852339845524761"
      ],
      "text/plain": [
       "[1] 0.8523398"
      ]
     },
     "metadata": {},
     "output_type": "display_data"
    }
   ],
   "source": [
    "auc<-performance(pred, \"auc\")\n",
    "auc\n",
    "auc@y.values[[1]]"
   ]
  },
  {
   "cell_type": "markdown",
   "metadata": {},
   "source": [
    "Next we can create a new instance on which to perform a prediction:"
   ]
  },
  {
   "cell_type": "code",
   "execution_count": 9,
   "metadata": {},
   "outputs": [
    {
     "data": {
      "image/png": "[encoded data removed]",
      "text/plain": [
       "Plot with title \"Decision Tree\""
      ]
     },
     "metadata": {},
     "output_type": "display_data"
    }
   ],
   "source": [
    "ninst<-c(0.03, 13, 3.5, 0.3, 0.58, 4.1, 68, 4.98, 3, 225, 17, 396, 7.56)\n",
    "names(ninst)<-c(\"Crim\", \"Zn\", \"Indus\", \"Chas\", \"Nox\", \"Rm\", \"Age\", \"Dis\", \"Rad\", \"Tax\", \"Ptratio\", \"B\", \"Lstat\")\n",
    "ninst.frame<-data.frame(ninst)\n",
    "plot(housing.tree, uniform=TRUE, main=\"Decision Tree\")\n",
    "text(housing.tree, use.n=TRUE, all=TRUE, cex=.8)"
   ]
  },
  {
   "cell_type": "markdown",
   "metadata": {},
   "source": [
    "Using this decison tree on the new instance, we get a class label of 0."
   ]
  }
 ],
 "metadata": {
  "kernelspec": {
   "display_name": "R",
   "language": "R",
   "name": "ir"
  },
  "language_info": {
   "codemirror_mode": "r",
   "file_extension": ".r",
   "mimetype": "text/x-r-source",
   "name": "R",
   "pygments_lexer": "r",
   "version": "3.6.1"
  }
 },
 "nbformat": 4,
 "nbformat_minor": 4
}
